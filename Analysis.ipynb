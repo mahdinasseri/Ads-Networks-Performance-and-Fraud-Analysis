{
 "cells": [
  {
   "cell_type": "code",
   "execution_count": 2,
   "metadata": {},
   "outputs": [],
   "source": [
    "import pandas as pd"
   ]
  },
  {
   "cell_type": "code",
   "execution_count": 3,
   "metadata": {},
   "outputs": [
    {
     "name": "stdout",
     "output_type": "stream",
     "text": [
      "me\n"
     ]
    }
   ],
   "source": [
    "print(\"me\")"
   ]
  },
  {
   "cell_type": "code",
   "execution_count": 4,
   "metadata": {},
   "outputs": [
    {
     "name": "stdout",
     "output_type": "stream",
     "text": [
      "<class 'pandas.core.frame.DataFrame'>\n",
      "RangeIndex: 770529 entries, 0 to 770528\n",
      "Data columns (total 6 columns):\n",
      " #   Column         Non-Null Count   Dtype \n",
      "---  ------         --------------   ----- \n",
      " 0   adid           770529 non-null  object\n",
      " 1   network_name   770529 non-null  object\n",
      " 2   installed_at   770529 non-null  object\n",
      " 3   activity_kind  770529 non-null  object\n",
      " 4   event_name     681147 non-null  object\n",
      " 5   created_at     770529 non-null  object\n",
      "dtypes: object(6)\n",
      "memory usage: 35.3+ MB\n"
     ]
    }
   ],
   "source": [
    "df = pd.read_csv(\"adjust_sample_data.csv\")\n",
    "df.info()"
   ]
  },
  {
   "cell_type": "code",
   "execution_count": 23,
   "metadata": {},
   "outputs": [
    {
     "ename": "AttributeError",
     "evalue": "'DataFrame' object has no attribute 'type'",
     "output_type": "error",
     "traceback": [
      "\u001b[1;31m---------------------------------------------------------------------------\u001b[0m",
      "\u001b[1;31mAttributeError\u001b[0m                            Traceback (most recent call last)",
      "\u001b[1;32m~\\AppData\\Local\\Temp\\ipykernel_4196\\1543814071.py\u001b[0m in \u001b[0;36m?\u001b[1;34m()\u001b[0m\n\u001b[1;32m----> 1\u001b[1;33m \u001b[0mdf\u001b[0m\u001b[1;33m.\u001b[0m\u001b[0mtype\u001b[0m\u001b[1;33m\u001b[0m\u001b[1;33m\u001b[0m\u001b[0m\n\u001b[0m",
      "\u001b[1;32mc:\\Users\\Divar\\anaconda3\\lib\\site-packages\\pandas\\core\\generic.py\u001b[0m in \u001b[0;36m?\u001b[1;34m(self, name)\u001b[0m\n\u001b[0;32m   5898\u001b[0m             \u001b[1;32mand\u001b[0m \u001b[0mname\u001b[0m \u001b[1;32mnot\u001b[0m \u001b[1;32min\u001b[0m \u001b[0mself\u001b[0m\u001b[1;33m.\u001b[0m\u001b[0m_accessors\u001b[0m\u001b[1;33m\u001b[0m\u001b[1;33m\u001b[0m\u001b[0m\n\u001b[0;32m   5899\u001b[0m             \u001b[1;32mand\u001b[0m \u001b[0mself\u001b[0m\u001b[1;33m.\u001b[0m\u001b[0m_info_axis\u001b[0m\u001b[1;33m.\u001b[0m\u001b[0m_can_hold_identifiers_and_holds_name\u001b[0m\u001b[1;33m(\u001b[0m\u001b[0mname\u001b[0m\u001b[1;33m)\u001b[0m\u001b[1;33m\u001b[0m\u001b[1;33m\u001b[0m\u001b[0m\n\u001b[0;32m   5900\u001b[0m         ):\n\u001b[0;32m   5901\u001b[0m             \u001b[1;32mreturn\u001b[0m \u001b[0mself\u001b[0m\u001b[1;33m[\u001b[0m\u001b[0mname\u001b[0m\u001b[1;33m]\u001b[0m\u001b[1;33m\u001b[0m\u001b[1;33m\u001b[0m\u001b[0m\n\u001b[1;32m-> 5902\u001b[1;33m         \u001b[1;32mreturn\u001b[0m \u001b[0mobject\u001b[0m\u001b[1;33m.\u001b[0m\u001b[0m__getattribute__\u001b[0m\u001b[1;33m(\u001b[0m\u001b[0mself\u001b[0m\u001b[1;33m,\u001b[0m \u001b[0mname\u001b[0m\u001b[1;33m)\u001b[0m\u001b[1;33m\u001b[0m\u001b[1;33m\u001b[0m\u001b[0m\n\u001b[0m",
      "\u001b[1;31mAttributeError\u001b[0m: 'DataFrame' object has no attribute 'type'"
     ]
    }
   ],
   "source": []
  },
  {
   "cell_type": "code",
   "execution_count": 4,
   "metadata": {},
   "outputs": [
    {
     "name": "stdout",
     "output_type": "stream",
     "text": [
      "770529\n",
      "                               adid network_name   installed_at activity_kind  \\\n",
      "0  1dcedd19b197650bd08a1f521caa3f8b      Organic  7/6/2019 0:07         event   \n",
      "1  d621e1bfa590881a68581733052dce57      Organic  7/6/2019 0:14         event   \n",
      "2  7107c045edc8eb4740ea7d8d7fd0b4aa      Organic  7/6/2019 0:33         event   \n",
      "3  32a53ff379ace92a650f0a41f1d02af1      Organic  7/6/2019 2:33         event   \n",
      "4  1eaeca850ef726e6c12475e099a9d9de      Organic  7/6/2019 3:28         event   \n",
      "\n",
      "        event_name      created_at  \n",
      "0      get_contact  7/8/2019 15:33  \n",
      "1      get_contact  7/8/2019 15:53  \n",
      "2  new_post_submit  7/8/2019 10:24  \n",
      "3      get_contact   7/8/2019 9:21  \n",
      "4      get_contact  7/6/2019 14:00  \n",
      "installed_at: Passed\n",
      "created_at: Passed\n",
      "cs loader passed\n"
     ]
    },
    {
     "name": "stderr",
     "output_type": "stream",
     "text": [
      "C:\\Users\\Divar\\AppData\\Local\\Temp\\ipykernel_4196\\2419458736.py:24: SettingWithCopyWarning: \n",
      "A value is trying to be set on a copy of a slice from a DataFrame.\n",
      "Try using .loc[row_indexer,col_indexer] = value instead\n",
      "\n",
      "See the caveats in the documentation: https://pandas.pydata.org/pandas-docs/stable/user_guide/indexing.html#returning-a-view-versus-a-copy\n",
      "  df['cnv_date'] = df_conversion['created_at']\n",
      "C:\\Users\\Divar\\AppData\\Local\\Temp\\ipykernel_4196\\2419458736.py:25: SettingWithCopyWarning: \n",
      "A value is trying to be set on a copy of a slice from a DataFrame.\n",
      "Try using .loc[row_indexer,col_indexer] = value instead\n",
      "\n",
      "See the caveats in the documentation: https://pandas.pydata.org/pandas-docs/stable/user_guide/indexing.html#returning-a-view-versus-a-copy\n",
      "  df['cnv_cohort_day'] = df['cnv_date'].dt.date\n",
      "C:\\Users\\Divar\\AppData\\Local\\Temp\\ipykernel_4196\\2419458736.py:26: SettingWithCopyWarning: \n",
      "A value is trying to be set on a copy of a slice from a DataFrame.\n",
      "Try using .loc[row_indexer,col_indexer] = value instead\n",
      "\n",
      "See the caveats in the documentation: https://pandas.pydata.org/pandas-docs/stable/user_guide/indexing.html#returning-a-view-versus-a-copy\n",
      "  df['cnv_age'] = df['created_at'] - df['cnv_date']\n",
      "C:\\Users\\Divar\\AppData\\Local\\Temp\\ipykernel_4196\\2419458736.py:27: SettingWithCopyWarning: \n",
      "A value is trying to be set on a copy of a slice from a DataFrame.\n",
      "Try using .loc[row_indexer,col_indexer] = value instead\n",
      "\n",
      "See the caveats in the documentation: https://pandas.pydata.org/pandas-docs/stable/user_guide/indexing.html#returning-a-view-versus-a-copy\n",
      "  df['cnv_age_day'] = df['cnv_age'].dt.days\n"
     ]
    }
   ],
   "source": [
    "\n",
    "print(len(df))\n",
    "print(df.head())\n",
    "df['installed_at'] = pd.to_datetime(df['installed_at'])\n",
    "print(\"installed_at: Passed\")\n",
    "df['created_at'] = pd.to_datetime(df['created_at'])\n",
    "df.sort_values(by='created_at',inplace=True)\n",
    "print(\"created_at: Passed\")\n",
    "print(\"cs loader passed\")\n",
    "df['aqz_age'] = df['created_at'] - df['installed_at']\n",
    "df['aqz_age_day'] = df['aqz_age'].dt.days\n",
    "df['aqz_cohort_day'] = df['installed_at'].dt.date\n",
    "\n",
    "\n",
    "#df_users = df[df['activity_kind'] == 'install']\n",
    "df_users = df.drop_duplicates('adid', keep='first')\n",
    "#df_users.drop_duplicates('adid',inplace=True)\n",
    "df_users = df_users[['adid','network_name','installed_at']]\n",
    "df_users.set_index('adid',drop=True,inplace=True)\n",
    "\n",
    "df=df[df['activity_kind']=='event']\n",
    "df_conversion = df.drop_duplicates('adid',keep='first')\n",
    "df_conversion.set_index('adid',drop=True,inplace=True)\n",
    "df.set_index('adid',drop=True,inplace=True)\n",
    "df['cnv_date'] = df_conversion['created_at']\n",
    "df['cnv_cohort_day'] = df['cnv_date'].dt.date\n",
    "df['cnv_age'] = df['created_at'] - df['cnv_date']\n",
    "df['cnv_age_day'] = df['cnv_age'].dt.days\n"
   ]
  },
  {
   "cell_type": "code",
   "execution_count": 16,
   "metadata": {},
   "outputs": [
    {
     "name": "stderr",
     "output_type": "stream",
     "text": [
      "C:\\Users\\Divar\\AppData\\Local\\Temp\\ipykernel_4196\\3207675837.py:1: SettingWithCopyWarning: \n",
      "A value is trying to be set on a copy of a slice from a DataFrame.\n",
      "Try using .loc[row_indexer,col_indexer] = value instead\n",
      "\n",
      "See the caveats in the documentation: https://pandas.pydata.org/pandas-docs/stable/user_guide/indexing.html#returning-a-view-versus-a-copy\n",
      "  df.loc[:, 'installed_at'] = pd.to_datetime(df['installed_at'])\n",
      "C:\\Users\\Divar\\AppData\\Local\\Temp\\ipykernel_4196\\3207675837.py:1: DeprecationWarning: In a future version, `df.iloc[:, i] = newvals` will attempt to set the values inplace instead of always setting a new array. To retain the old behavior, use either `df[df.columns[i]] = newvals` or, if columns are non-unique, `df.isetitem(i, newvals)`\n",
      "  df.loc[:, 'installed_at'] = pd.to_datetime(df['installed_at'])\n"
     ]
    }
   ],
   "source": [
    "df.loc[:, 'installed_at'] = pd.to_datetime(df['installed_at'])\n"
   ]
  },
  {
   "cell_type": "markdown",
   "metadata": {},
   "source": [
    "# Data Cleaning"
   ]
  },
  {
   "cell_type": "code",
   "execution_count": null,
   "metadata": {},
   "outputs": [],
   "source": [
    "df['created_at'] = pd.to_datetime(df['created_at'])\n",
    "df['aqz_cohort_day'] = pd.to_datetime(df['aqz_cohort_day'])\n",
    "df['cnv_date'] = pd.to_datetime(df['cnv_date'])\n",
    "df['cnv_cohort_day'] = pd.to_datetime(df['cnv_cohort_day'])\n",
    "df['aqz_age'] = pd.to_timedelta(df['aqz_age'])\n",
    "df['cnv_age'] = pd.to_timedelta(df['cnv_age'])\n",
    "df.sort_values('created_at',inplace=True)\n",
    "\n",
    "#df_users = pd.read_csv(path+'users.csv')\n",
    "df_users['installed_at'] = pd.to_datetime(df_users['installed_at'])\n",
    "df_users.sort_values('installed_at',inplace=True)\n",
    "print(\"cb load passed!\")"
   ]
  },
  {
   "cell_type": "markdown",
   "metadata": {},
   "source": []
  },
  {
   "cell_type": "markdown",
   "metadata": {},
   "source": [
    "# Exploration"
   ]
  },
  {
   "cell_type": "markdown",
   "metadata": {},
   "source": []
  }
 ],
 "metadata": {
  "kernelspec": {
   "display_name": "Python 3 (ipykernel)",
   "language": "python",
   "name": "python3"
  },
  "language_info": {
   "codemirror_mode": {
    "name": "ipython",
    "version": 3
   },
   "file_extension": ".py",
   "mimetype": "text/x-python",
   "name": "python",
   "nbconvert_exporter": "python",
   "pygments_lexer": "ipython3",
   "version": "3.9.7"
  }
 },
 "nbformat": 4,
 "nbformat_minor": 2
}

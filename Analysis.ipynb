{
 "cells": [
  {
   "cell_type": "code",
   "execution_count": 1,
   "metadata": {},
   "outputs": [],
   "source": [
    "import pandas as pd"
   ]
  },
  {
   "cell_type": "code",
   "execution_count": 2,
   "metadata": {},
   "outputs": [
    {
     "name": "stdout",
     "output_type": "stream",
     "text": [
      "me\n"
     ]
    }
   ],
   "source": [
    "print(\"me\")"
   ]
  },
  {
   "cell_type": "code",
   "execution_count": 3,
   "metadata": {},
   "outputs": [],
   "source": [
    "df = pd.read_csv(\"adjust_sample_data.csv\").sort_values(by='created_at')"
   ]
  },
  {
   "cell_type": "code",
   "execution_count": 4,
   "metadata": {},
   "outputs": [
    {
     "name": "stdout",
     "output_type": "stream",
     "text": [
      "<class 'pandas.core.frame.DataFrame'>\n",
      "Int64Index: 770529 entries, 215200 to 320513\n",
      "Data columns (total 6 columns):\n",
      " #   Column         Non-Null Count   Dtype \n",
      "---  ------         --------------   ----- \n",
      " 0   adid           770529 non-null  object\n",
      " 1   network_name   770529 non-null  object\n",
      " 2   installed_at   770529 non-null  object\n",
      " 3   activity_kind  770529 non-null  object\n",
      " 4   event_name     681147 non-null  object\n",
      " 5   created_at     770529 non-null  object\n",
      "dtypes: object(6)\n",
      "memory usage: 41.2+ MB\n"
     ]
    },
    {
     "data": {
      "text/html": [
       "<div>\n",
       "<style scoped>\n",
       "    .dataframe tbody tr th:only-of-type {\n",
       "        vertical-align: middle;\n",
       "    }\n",
       "\n",
       "    .dataframe tbody tr th {\n",
       "        vertical-align: top;\n",
       "    }\n",
       "\n",
       "    .dataframe thead th {\n",
       "        text-align: right;\n",
       "    }\n",
       "</style>\n",
       "<table border=\"1\" class=\"dataframe\">\n",
       "  <thead>\n",
       "    <tr style=\"text-align: right;\">\n",
       "      <th></th>\n",
       "      <th>adid</th>\n",
       "      <th>network_name</th>\n",
       "      <th>installed_at</th>\n",
       "      <th>activity_kind</th>\n",
       "      <th>event_name</th>\n",
       "      <th>created_at</th>\n",
       "    </tr>\n",
       "  </thead>\n",
       "  <tbody>\n",
       "    <tr>\n",
       "      <th>215200</th>\n",
       "      <td>db52b12c9c35e053bdb071b434c8dac4</td>\n",
       "      <td>Cafebazaar-searchad</td>\n",
       "      <td>7/9/2019 23:48</td>\n",
       "      <td>event</td>\n",
       "      <td>get_contact</td>\n",
       "      <td>7/10/2019 0:00</td>\n",
       "    </tr>\n",
       "    <tr>\n",
       "      <th>101844</th>\n",
       "      <td>f4f4e63a4c6913ae714bdaeaab6d7002</td>\n",
       "      <td>Organic</td>\n",
       "      <td>7/6/2019 1:59</td>\n",
       "      <td>event</td>\n",
       "      <td>get_contact</td>\n",
       "      <td>7/10/2019 0:00</td>\n",
       "    </tr>\n",
       "    <tr>\n",
       "      <th>606061</th>\n",
       "      <td>2a4de36964a24f8f9261a2c8de806ee9</td>\n",
       "      <td>Cafebazaar-searchad</td>\n",
       "      <td>7/7/2019 21:44</td>\n",
       "      <td>event</td>\n",
       "      <td>get_contact</td>\n",
       "      <td>7/10/2019 0:00</td>\n",
       "    </tr>\n",
       "    <tr>\n",
       "      <th>101692</th>\n",
       "      <td>1727d32e0a7bf27458275bfe58110b2f</td>\n",
       "      <td>Organic</td>\n",
       "      <td>7/9/2019 18:09</td>\n",
       "      <td>event</td>\n",
       "      <td>get_contact</td>\n",
       "      <td>7/10/2019 0:01</td>\n",
       "    </tr>\n",
       "    <tr>\n",
       "      <th>606726</th>\n",
       "      <td>3dbfd4dfda300b1c11cf2695bf38ebf8</td>\n",
       "      <td>Cafebazaar-searchad</td>\n",
       "      <td>7/8/2019 8:07</td>\n",
       "      <td>event</td>\n",
       "      <td>new_post_submit</td>\n",
       "      <td>7/10/2019 0:01</td>\n",
       "    </tr>\n",
       "  </tbody>\n",
       "</table>\n",
       "</div>"
      ],
      "text/plain": [
       "                                    adid         network_name    installed_at  \\\n",
       "215200  db52b12c9c35e053bdb071b434c8dac4  Cafebazaar-searchad  7/9/2019 23:48   \n",
       "101844  f4f4e63a4c6913ae714bdaeaab6d7002              Organic   7/6/2019 1:59   \n",
       "606061  2a4de36964a24f8f9261a2c8de806ee9  Cafebazaar-searchad  7/7/2019 21:44   \n",
       "101692  1727d32e0a7bf27458275bfe58110b2f              Organic  7/9/2019 18:09   \n",
       "606726  3dbfd4dfda300b1c11cf2695bf38ebf8  Cafebazaar-searchad   7/8/2019 8:07   \n",
       "\n",
       "       activity_kind       event_name      created_at  \n",
       "215200         event      get_contact  7/10/2019 0:00  \n",
       "101844         event      get_contact  7/10/2019 0:00  \n",
       "606061         event      get_contact  7/10/2019 0:00  \n",
       "101692         event      get_contact  7/10/2019 0:01  \n",
       "606726         event  new_post_submit  7/10/2019 0:01  "
      ]
     },
     "execution_count": 4,
     "metadata": {},
     "output_type": "execute_result"
    }
   ],
   "source": [
    "df.info()\n",
    "df.head(5)"
   ]
  },
  {
   "cell_type": "code",
   "execution_count": 5,
   "metadata": {},
   "outputs": [],
   "source": [
    "df['installed_at'] = pd.to_datetime(df['installed_at'])\n",
    "df['created_at'] = pd.to_datetime(df['created_at'])"
   ]
  },
  {
   "cell_type": "code",
   "execution_count": 6,
   "metadata": {},
   "outputs": [],
   "source": [
    "df['aqz_age'] = df['created_at'] - df['installed_at']\n",
    "df['aqz_age_day'] = df['aqz_age'].dt.days\n",
    "df['aqz_cohort_day'] = df['installed_at'].dt.date"
   ]
  },
  {
   "cell_type": "code",
   "execution_count": 7,
   "metadata": {},
   "outputs": [],
   "source": [
    "df_users = df.drop_duplicates('adid', keep='first')\n",
    "df_users = df_users[['adid','network_name','installed_at']]\n",
    "df_users.set_index('adid',drop=True,inplace=True)"
   ]
  },
  {
   "cell_type": "code",
   "execution_count": 8,
   "metadata": {},
   "outputs": [],
   "source": [
    "df=df[df['activity_kind']=='event']\n",
    "df_conversion = df.drop_duplicates('adid',keep='first')\n",
    "df_conversion.set_index('adid',drop=True,inplace=True)\n",
    "df.set_index('adid',drop=True,inplace=True)"
   ]
  },
  {
   "cell_type": "code",
   "execution_count": 9,
   "metadata": {},
   "outputs": [],
   "source": [
    "df['cnv_date'] = df_conversion['created_at']\n",
    "df['cnv_cohort_day'] = df['cnv_date'].dt.date\n",
    "df['cnv_age'] = df['created_at'] - df['cnv_date']\n",
    "df['cnv_age_day'] = df['cnv_age'].dt.days"
   ]
  },
  {
   "cell_type": "code",
   "execution_count": null,
   "metadata": {},
   "outputs": [],
   "source": []
  },
  {
   "cell_type": "markdown",
   "metadata": {},
   "source": [
    "# Data Cleaning"
   ]
  },
  {
   "cell_type": "code",
   "execution_count": null,
   "metadata": {},
   "outputs": [],
   "source": []
  },
  {
   "cell_type": "markdown",
   "metadata": {},
   "source": []
  },
  {
   "cell_type": "markdown",
   "metadata": {},
   "source": [
    "# Exploration"
   ]
  },
  {
   "cell_type": "markdown",
   "metadata": {},
   "source": []
  }
 ],
 "metadata": {
  "kernelspec": {
   "display_name": "Python 3 (ipykernel)",
   "language": "python",
   "name": "python3"
  },
  "language_info": {
   "codemirror_mode": {
    "name": "ipython",
    "version": 3
   },
   "file_extension": ".py",
   "mimetype": "text/x-python",
   "name": "python",
   "nbconvert_exporter": "python",
   "pygments_lexer": "ipython3",
   "version": "3.9.7"
  }
 },
 "nbformat": 4,
 "nbformat_minor": 2
}
